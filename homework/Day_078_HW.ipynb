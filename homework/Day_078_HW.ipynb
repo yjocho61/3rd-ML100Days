{
  "nbformat": 4,
  "nbformat_minor": 0,
  "metadata": {
    "kernelspec": {
      "display_name": "Python 3",
      "language": "python",
      "name": "python3"
    },
    "language_info": {
      "codemirror_mode": {
        "name": "ipython",
        "version": 3
      },
      "file_extension": ".py",
      "mimetype": "text/x-python",
      "name": "python",
      "nbconvert_exporter": "python",
      "pygments_lexer": "ipython3",
      "version": "3.6.5"
    },
    "colab": {
      "name": "Day078_HW.ipynb",
      "provenance": [],
      "collapsed_sections": []
    }
  },
  "cells": [
    {
      "cell_type": "markdown",
      "metadata": {
        "id": "LJ9S9XepdgGW",
        "colab_type": "text"
      },
      "source": [
        "## Work\n",
        "1. 請嘗試將 preproc_x 替換成以每筆資料的 min/max 進行標準化至 -1 ~ 1 間，再進行訓練\n",
        "2. 請嘗試將 mlp 疊更深 (e.g 5~10 層)，進行訓練後觀察 learning curve 的走勢\n",
        "3. (optional) 請改用 GPU 進行訓練 (如果你有 GPU 的話)，比較使用 CPU 與 GPU 的訓練速度"
      ]
    },
    {
      "cell_type": "code",
      "metadata": {
        "id": "Gcj_ii9fdgGb",
        "colab_type": "code",
        "colab": {
          "base_uri": "https://localhost:8080/",
          "height": 35
        },
        "outputId": "59bd9cd3-192a-46ef-a03c-7b4a6234e844"
      },
      "source": [
        "## \n",
        "\"\"\"\n",
        "Your code here (optional)\n",
        "確認硬體資源\n",
        "\"\"\"\n"
      ],
      "execution_count": 1,
      "outputs": [
        {
          "output_type": "execute_result",
          "data": {
            "text/plain": [
              "'\\nYour code here (optional)\\n確認硬體資源\\n'"
            ]
          },
          "metadata": {
            "tags": []
          },
          "execution_count": 1
        }
      ]
    },
    {
      "cell_type": "code",
      "metadata": {
        "id": "owwTCC10dgGl",
        "colab_type": "code",
        "colab": {
          "base_uri": "https://localhost:8080/",
          "height": 81
        },
        "outputId": "d0145ee2-4bee-4826-efbc-10be9cd6889e"
      },
      "source": [
        "import os\n",
        "import keras\n",
        "\n",
        "# 請嘗試設定 GPU：os.environ\n",
        "os.environ[\"CUDA_VISIBLE_DEVICES\"] = \"0\""
      ],
      "execution_count": 2,
      "outputs": [
        {
          "output_type": "stream",
          "text": [
            "Using TensorFlow backend.\n"
          ],
          "name": "stderr"
        },
        {
          "output_type": "display_data",
          "data": {
            "text/html": [
              "<p style=\"color: red;\">\n",
              "The default version of TensorFlow in Colab will soon switch to TensorFlow 2.x.<br>\n",
              "We recommend you <a href=\"https://www.tensorflow.org/guide/migrate\" target=\"_blank\">upgrade</a> now \n",
              "or ensure your notebook will continue to use TensorFlow 1.x via the <code>%tensorflow_version 1.x</code> magic:\n",
              "<a href=\"https://colab.research.google.com/notebooks/tensorflow_version.ipynb\" target=\"_blank\">more info</a>.</p>\n"
            ],
            "text/plain": [
              "<IPython.core.display.HTML object>"
            ]
          },
          "metadata": {
            "tags": []
          }
        }
      ]
    },
    {
      "cell_type": "code",
      "metadata": {
        "id": "1_keuv8MdgGy",
        "colab_type": "code",
        "colab": {
          "base_uri": "https://localhost:8080/",
          "height": 52
        },
        "outputId": "5dc2bc98-327f-41dd-b2c8-f7d0afed99dd"
      },
      "source": [
        "train, test = keras.datasets.cifar10.load_data()"
      ],
      "execution_count": 3,
      "outputs": [
        {
          "output_type": "stream",
          "text": [
            "Downloading data from https://www.cs.toronto.edu/~kriz/cifar-10-python.tar.gz\n",
            "170500096/170498071 [==============================] - 2s 0us/step\n"
          ],
          "name": "stdout"
        }
      ]
    },
    {
      "cell_type": "code",
      "metadata": {
        "id": "n0vI4kkRdgG5",
        "colab_type": "code",
        "colab": {}
      },
      "source": [
        "## 資料前處理\n",
        "\"\"\"\n",
        "Your code here\n",
        "\"\"\"\n",
        "def preproc_x(x, flatten = True):\n",
        "  x = (x / 255) * 2 - 1\n",
        "  if flatten:\n",
        "    x = x.reshape((len(x), -1))\n",
        "  return x\n",
        "\n",
        "def preproc_y(y, num = 10):\n",
        "  y = keras.utils.to_categorical(y, num)\n",
        "  return y"
      ],
      "execution_count": 0,
      "outputs": []
    },
    {
      "cell_type": "code",
      "metadata": {
        "id": "Ru_Zoc3pdgHC",
        "colab_type": "code",
        "colab": {}
      },
      "source": [
        "x_train, y_train = train\n",
        "x_test, y_test = test\n",
        "\n",
        "# Preproc the inputs\n",
        "x_train = preproc_x(x_train)\n",
        "x_test = preproc_x(x_test)\n",
        "\n",
        "# Preprc the outputs\n",
        "y_train = preproc_y(y_train)\n",
        "y_test = preproc_y(y_test)"
      ],
      "execution_count": 0,
      "outputs": []
    },
    {
      "cell_type": "code",
      "metadata": {
        "id": "-Dl-EG4JlAeS",
        "colab_type": "code",
        "colab": {
          "base_uri": "https://localhost:8080/",
          "height": 35
        },
        "outputId": "ad6731ba-98ef-4557-c7db-fb15d3412c64"
      },
      "source": [
        "x_train.shape[1:]"
      ],
      "execution_count": 34,
      "outputs": [
        {
          "output_type": "execute_result",
          "data": {
            "text/plain": [
              "(3072,)"
            ]
          },
          "metadata": {
            "tags": []
          },
          "execution_count": 34
        }
      ]
    },
    {
      "cell_type": "code",
      "metadata": {
        "id": "N3YtpQvGdgHP",
        "colab_type": "code",
        "colab": {
          "base_uri": "https://localhost:8080/",
          "height": 419
        },
        "outputId": "5d6d9339-0fb5-4701-ad84-f3178318a4b0"
      },
      "source": [
        "\"\"\"Code Here\n",
        "建立你的神經網路\n",
        "\"\"\"\n",
        "def build_mlp(input_shape, output_dim = 10, layers = [256, 128, 64, 32, 16]):\n",
        "  model = keras.models.Sequential()\n",
        "  for i, layer in enumerate(layers):\n",
        "    if i ==0:\n",
        "      model.add(keras.layers.Dense(layer, input_shape = input_shape, activation = 'relu'))\n",
        "    else:\n",
        "      model.add(keras.layers.Dense(layer, activation = 'relu'))\n",
        "    \n",
        "  model.add(keras.layers.Dense(output_dim = output_dim, activation = 'softmax'))\n",
        "\n",
        "  return model\n",
        "\n",
        "model = build_mlp(input_shape = x_train.shape[1:])\n",
        "model.summary()"
      ],
      "execution_count": 44,
      "outputs": [
        {
          "output_type": "stream",
          "text": [
            "Model: \"sequential_12\"\n",
            "_________________________________________________________________\n",
            "Layer (type)                 Output Shape              Param #   \n",
            "=================================================================\n",
            "dense_18 (Dense)             (None, 256)               786688    \n",
            "_________________________________________________________________\n",
            "dense_19 (Dense)             (None, 128)               32896     \n",
            "_________________________________________________________________\n",
            "dense_20 (Dense)             (None, 64)                8256      \n",
            "_________________________________________________________________\n",
            "dense_21 (Dense)             (None, 32)                2080      \n",
            "_________________________________________________________________\n",
            "dense_22 (Dense)             (None, 16)                528       \n",
            "_________________________________________________________________\n",
            "dense_23 (Dense)             (None, 10)                170       \n",
            "=================================================================\n",
            "Total params: 830,618\n",
            "Trainable params: 830,618\n",
            "Non-trainable params: 0\n",
            "_________________________________________________________________\n"
          ],
          "name": "stdout"
        },
        {
          "output_type": "stream",
          "text": [
            "/usr/local/lib/python3.6/dist-packages/ipykernel_launcher.py:12: UserWarning: Update your `Dense` call to the Keras 2 API: `Dense(activation=\"softmax\", units=10)`\n",
            "  if sys.path[0] == '':\n"
          ],
          "name": "stderr"
        }
      ]
    },
    {
      "cell_type": "code",
      "metadata": {
        "id": "yFUius7ndgHY",
        "colab_type": "code",
        "colab": {}
      },
      "source": [
        "## 超參數設定\n",
        "LEARNING_RATE = 0.001\n",
        "EPOCHS = 100\n",
        "BATCH_SIZE = 256"
      ],
      "execution_count": 0,
      "outputs": []
    },
    {
      "cell_type": "code",
      "metadata": {
        "id": "HtDFxHBJdgHz",
        "colab_type": "code",
        "colab": {}
      },
      "source": [
        "optimizer = keras.optimizers.Adam(lr=LEARNING_RATE)\n",
        "model.compile(loss=\"categorical_crossentropy\", metrics=[\"accuracy\"], optimizer=optimizer)"
      ],
      "execution_count": 0,
      "outputs": []
    },
    {
      "cell_type": "code",
      "metadata": {
        "id": "Bud-rSt9dgIA",
        "colab_type": "code",
        "colab": {
          "base_uri": "https://localhost:8080/",
          "height": 1000
        },
        "outputId": "9cb9b945-2f9b-42be-eb72-ed315d3e7571"
      },
      "source": [
        "model.fit(x_train, y_train, \n",
        "          epochs=EPOCHS, \n",
        "          batch_size=BATCH_SIZE, \n",
        "          validation_data=(x_test, y_test), \n",
        "          shuffle=True)"
      ],
      "execution_count": 46,
      "outputs": [
        {
          "output_type": "stream",
          "text": [
            "Train on 50000 samples, validate on 10000 samples\n",
            "Epoch 1/100\n",
            "50000/50000 [==============================] - 7s 145us/step - loss: 1.7887 - acc: 0.3718 - val_loss: 1.5852 - val_acc: 0.4351\n",
            "Epoch 2/100\n",
            "50000/50000 [==============================] - 7s 135us/step - loss: 1.5009 - acc: 0.4722 - val_loss: 1.4870 - val_acc: 0.4788\n",
            "Epoch 3/100\n",
            "50000/50000 [==============================] - 7s 135us/step - loss: 1.3908 - acc: 0.5105 - val_loss: 1.4310 - val_acc: 0.4962\n",
            "Epoch 4/100\n",
            "50000/50000 [==============================] - 7s 138us/step - loss: 1.3070 - acc: 0.5385 - val_loss: 1.4170 - val_acc: 0.5043\n",
            "Epoch 5/100\n",
            "50000/50000 [==============================] - 7s 135us/step - loss: 1.2371 - acc: 0.5657 - val_loss: 1.3980 - val_acc: 0.5091\n",
            "Epoch 6/100\n",
            "50000/50000 [==============================] - 7s 137us/step - loss: 1.1789 - acc: 0.5872 - val_loss: 1.3964 - val_acc: 0.5137\n",
            "Epoch 7/100\n",
            "50000/50000 [==============================] - 7s 136us/step - loss: 1.1227 - acc: 0.6071 - val_loss: 1.4033 - val_acc: 0.5199\n",
            "Epoch 8/100\n",
            "50000/50000 [==============================] - 7s 135us/step - loss: 1.0575 - acc: 0.6287 - val_loss: 1.4059 - val_acc: 0.5265\n",
            "Epoch 9/100\n",
            "50000/50000 [==============================] - 7s 137us/step - loss: 1.0153 - acc: 0.6432 - val_loss: 1.3964 - val_acc: 0.5296\n",
            "Epoch 10/100\n",
            "50000/50000 [==============================] - 7s 135us/step - loss: 0.9563 - acc: 0.6650 - val_loss: 1.4208 - val_acc: 0.5310\n",
            "Epoch 11/100\n",
            "50000/50000 [==============================] - 7s 137us/step - loss: 0.9157 - acc: 0.6760 - val_loss: 1.4729 - val_acc: 0.5304\n",
            "Epoch 12/100\n",
            "50000/50000 [==============================] - 7s 137us/step - loss: 0.8765 - acc: 0.6929 - val_loss: 1.4561 - val_acc: 0.5270\n",
            "Epoch 13/100\n",
            "50000/50000 [==============================] - 7s 136us/step - loss: 0.8151 - acc: 0.7134 - val_loss: 1.5259 - val_acc: 0.5234\n",
            "Epoch 14/100\n",
            "50000/50000 [==============================] - 7s 135us/step - loss: 0.7758 - acc: 0.7269 - val_loss: 1.5808 - val_acc: 0.5313\n",
            "Epoch 15/100\n",
            "50000/50000 [==============================] - 7s 135us/step - loss: 0.7435 - acc: 0.7398 - val_loss: 1.6172 - val_acc: 0.5252\n",
            "Epoch 16/100\n",
            "50000/50000 [==============================] - 7s 135us/step - loss: 0.7028 - acc: 0.7520 - val_loss: 1.7125 - val_acc: 0.5021\n",
            "Epoch 17/100\n",
            "50000/50000 [==============================] - 7s 136us/step - loss: 0.6622 - acc: 0.7673 - val_loss: 1.7171 - val_acc: 0.5227\n",
            "Epoch 18/100\n",
            "50000/50000 [==============================] - 7s 136us/step - loss: 0.6346 - acc: 0.7757 - val_loss: 1.7519 - val_acc: 0.5190\n",
            "Epoch 19/100\n",
            "50000/50000 [==============================] - 7s 133us/step - loss: 0.5938 - acc: 0.7927 - val_loss: 1.8092 - val_acc: 0.5210\n",
            "Epoch 20/100\n",
            "50000/50000 [==============================] - 7s 132us/step - loss: 0.5590 - acc: 0.8024 - val_loss: 1.8887 - val_acc: 0.5214\n",
            "Epoch 21/100\n",
            "50000/50000 [==============================] - 7s 135us/step - loss: 0.5402 - acc: 0.8100 - val_loss: 1.9821 - val_acc: 0.5110\n",
            "Epoch 22/100\n",
            "50000/50000 [==============================] - 7s 135us/step - loss: 0.5029 - acc: 0.8225 - val_loss: 2.0259 - val_acc: 0.5192\n",
            "Epoch 23/100\n",
            "50000/50000 [==============================] - 7s 134us/step - loss: 0.4848 - acc: 0.8302 - val_loss: 2.0212 - val_acc: 0.5172\n",
            "Epoch 24/100\n",
            "50000/50000 [==============================] - 7s 132us/step - loss: 0.4544 - acc: 0.8430 - val_loss: 2.0947 - val_acc: 0.5139\n",
            "Epoch 25/100\n",
            "50000/50000 [==============================] - 7s 136us/step - loss: 0.4363 - acc: 0.8486 - val_loss: 2.1726 - val_acc: 0.5135\n",
            "Epoch 26/100\n",
            "50000/50000 [==============================] - 7s 135us/step - loss: 0.4212 - acc: 0.8524 - val_loss: 2.2213 - val_acc: 0.5131\n",
            "Epoch 27/100\n",
            "50000/50000 [==============================] - 7s 133us/step - loss: 0.3942 - acc: 0.8615 - val_loss: 2.3631 - val_acc: 0.5044\n",
            "Epoch 28/100\n",
            "50000/50000 [==============================] - 7s 134us/step - loss: 0.3709 - acc: 0.8701 - val_loss: 2.4020 - val_acc: 0.5092\n",
            "Epoch 29/100\n",
            "50000/50000 [==============================] - 7s 133us/step - loss: 0.3495 - acc: 0.8778 - val_loss: 2.4559 - val_acc: 0.5096\n",
            "Epoch 30/100\n",
            "50000/50000 [==============================] - 7s 136us/step - loss: 0.3431 - acc: 0.8805 - val_loss: 2.5292 - val_acc: 0.5007\n",
            "Epoch 31/100\n",
            "50000/50000 [==============================] - 7s 135us/step - loss: 0.3256 - acc: 0.8851 - val_loss: 2.6010 - val_acc: 0.5028\n",
            "Epoch 32/100\n",
            "50000/50000 [==============================] - 7s 135us/step - loss: 0.3007 - acc: 0.8950 - val_loss: 2.6411 - val_acc: 0.5091\n",
            "Epoch 33/100\n",
            "50000/50000 [==============================] - 7s 137us/step - loss: 0.2839 - acc: 0.9013 - val_loss: 2.7540 - val_acc: 0.5020\n",
            "Epoch 34/100\n",
            "50000/50000 [==============================] - 7s 139us/step - loss: 0.3093 - acc: 0.8930 - val_loss: 2.7280 - val_acc: 0.5038\n",
            "Epoch 35/100\n",
            "50000/50000 [==============================] - 7s 133us/step - loss: 0.2787 - acc: 0.9028 - val_loss: 2.8801 - val_acc: 0.5099\n",
            "Epoch 36/100\n",
            "50000/50000 [==============================] - 7s 133us/step - loss: 0.2712 - acc: 0.9061 - val_loss: 2.8707 - val_acc: 0.5002\n",
            "Epoch 37/100\n",
            "50000/50000 [==============================] - 7s 132us/step - loss: 0.2461 - acc: 0.9149 - val_loss: 2.9836 - val_acc: 0.5028\n",
            "Epoch 38/100\n",
            "50000/50000 [==============================] - 7s 131us/step - loss: 0.2331 - acc: 0.9195 - val_loss: 3.0606 - val_acc: 0.4988\n",
            "Epoch 39/100\n",
            "50000/50000 [==============================] - 7s 134us/step - loss: 0.2329 - acc: 0.9197 - val_loss: 3.1296 - val_acc: 0.5093\n",
            "Epoch 40/100\n",
            "50000/50000 [==============================] - 7s 135us/step - loss: 0.2304 - acc: 0.9199 - val_loss: 3.1376 - val_acc: 0.5079\n",
            "Epoch 41/100\n",
            "50000/50000 [==============================] - 7s 134us/step - loss: 0.2375 - acc: 0.9173 - val_loss: 3.1260 - val_acc: 0.5047\n",
            "Epoch 42/100\n",
            "50000/50000 [==============================] - 7s 132us/step - loss: 0.2025 - acc: 0.9299 - val_loss: 3.3031 - val_acc: 0.5005\n",
            "Epoch 43/100\n",
            "50000/50000 [==============================] - 7s 133us/step - loss: 0.2076 - acc: 0.9283 - val_loss: 3.1817 - val_acc: 0.5050\n",
            "Epoch 44/100\n",
            "50000/50000 [==============================] - 7s 134us/step - loss: 0.1922 - acc: 0.9336 - val_loss: 3.2713 - val_acc: 0.5070\n",
            "Epoch 45/100\n",
            "50000/50000 [==============================] - 7s 134us/step - loss: 0.2102 - acc: 0.9275 - val_loss: 3.2970 - val_acc: 0.5032\n",
            "Epoch 46/100\n",
            "50000/50000 [==============================] - 7s 133us/step - loss: 0.2140 - acc: 0.9264 - val_loss: 3.3144 - val_acc: 0.4975\n",
            "Epoch 47/100\n",
            "50000/50000 [==============================] - 7s 132us/step - loss: 0.1967 - acc: 0.9333 - val_loss: 3.3214 - val_acc: 0.5024\n",
            "Epoch 48/100\n",
            "50000/50000 [==============================] - 7s 135us/step - loss: 0.1828 - acc: 0.9367 - val_loss: 3.4289 - val_acc: 0.5031\n",
            "Epoch 49/100\n",
            "50000/50000 [==============================] - 7s 134us/step - loss: 0.2019 - acc: 0.9301 - val_loss: 3.4134 - val_acc: 0.5032\n",
            "Epoch 50/100\n",
            "50000/50000 [==============================] - 7s 135us/step - loss: 0.1638 - acc: 0.9436 - val_loss: 3.5390 - val_acc: 0.5093\n",
            "Epoch 51/100\n",
            "50000/50000 [==============================] - 7s 132us/step - loss: 0.1498 - acc: 0.9488 - val_loss: 3.6235 - val_acc: 0.4985\n",
            "Epoch 52/100\n",
            "50000/50000 [==============================] - 7s 133us/step - loss: 0.1682 - acc: 0.9424 - val_loss: 3.5886 - val_acc: 0.5026\n",
            "Epoch 53/100\n",
            "50000/50000 [==============================] - 7s 135us/step - loss: 0.1609 - acc: 0.9448 - val_loss: 3.6853 - val_acc: 0.5032\n",
            "Epoch 54/100\n",
            "50000/50000 [==============================] - 7s 134us/step - loss: 0.1652 - acc: 0.9435 - val_loss: 3.6610 - val_acc: 0.5034\n",
            "Epoch 55/100\n",
            "50000/50000 [==============================] - 7s 132us/step - loss: 0.1549 - acc: 0.9468 - val_loss: 3.6768 - val_acc: 0.5076\n",
            "Epoch 56/100\n",
            "50000/50000 [==============================] - 7s 134us/step - loss: 0.1506 - acc: 0.9480 - val_loss: 3.8064 - val_acc: 0.4939\n",
            "Epoch 57/100\n",
            "50000/50000 [==============================] - 7s 135us/step - loss: 0.1718 - acc: 0.9405 - val_loss: 3.6944 - val_acc: 0.5050\n",
            "Epoch 58/100\n",
            "50000/50000 [==============================] - 7s 133us/step - loss: 0.1624 - acc: 0.9453 - val_loss: 3.6916 - val_acc: 0.5047\n",
            "Epoch 59/100\n",
            "50000/50000 [==============================] - 7s 134us/step - loss: 0.1392 - acc: 0.9516 - val_loss: 3.8035 - val_acc: 0.4970\n",
            "Epoch 60/100\n",
            "50000/50000 [==============================] - 7s 134us/step - loss: 0.1362 - acc: 0.9535 - val_loss: 3.8159 - val_acc: 0.5022\n",
            "Epoch 61/100\n",
            "50000/50000 [==============================] - 7s 132us/step - loss: 0.1310 - acc: 0.9558 - val_loss: 3.8949 - val_acc: 0.5003\n",
            "Epoch 62/100\n",
            "50000/50000 [==============================] - 7s 133us/step - loss: 0.1140 - acc: 0.9614 - val_loss: 3.9055 - val_acc: 0.5000\n",
            "Epoch 63/100\n",
            "50000/50000 [==============================] - 7s 134us/step - loss: 0.1422 - acc: 0.9516 - val_loss: 3.9073 - val_acc: 0.4996\n",
            "Epoch 64/100\n",
            "50000/50000 [==============================] - 7s 132us/step - loss: 0.1772 - acc: 0.9397 - val_loss: 3.7743 - val_acc: 0.4946\n",
            "Epoch 65/100\n",
            "50000/50000 [==============================] - 7s 133us/step - loss: 0.1444 - acc: 0.9509 - val_loss: 3.8526 - val_acc: 0.5009\n",
            "Epoch 66/100\n",
            "50000/50000 [==============================] - 7s 136us/step - loss: 0.1144 - acc: 0.9610 - val_loss: 3.9989 - val_acc: 0.5081\n",
            "Epoch 67/100\n",
            "50000/50000 [==============================] - 7s 137us/step - loss: 0.1309 - acc: 0.9554 - val_loss: 3.9275 - val_acc: 0.5119\n",
            "Epoch 68/100\n",
            "50000/50000 [==============================] - 7s 134us/step - loss: 0.1137 - acc: 0.9617 - val_loss: 3.9894 - val_acc: 0.5031\n",
            "Epoch 69/100\n",
            "50000/50000 [==============================] - 7s 132us/step - loss: 0.0986 - acc: 0.9666 - val_loss: 4.0878 - val_acc: 0.5049\n",
            "Epoch 70/100\n",
            "50000/50000 [==============================] - 7s 133us/step - loss: 0.1474 - acc: 0.9500 - val_loss: 4.0324 - val_acc: 0.5010\n",
            "Epoch 71/100\n",
            "50000/50000 [==============================] - 7s 136us/step - loss: 0.1372 - acc: 0.9530 - val_loss: 4.0485 - val_acc: 0.4976\n",
            "Epoch 72/100\n",
            "50000/50000 [==============================] - 7s 135us/step - loss: 0.1175 - acc: 0.9607 - val_loss: 4.1328 - val_acc: 0.5013\n",
            "Epoch 73/100\n",
            "50000/50000 [==============================] - 7s 133us/step - loss: 0.1569 - acc: 0.9486 - val_loss: 3.9865 - val_acc: 0.4976\n",
            "Epoch 74/100\n",
            "50000/50000 [==============================] - 7s 134us/step - loss: 0.1015 - acc: 0.9659 - val_loss: 4.0472 - val_acc: 0.4995\n",
            "Epoch 75/100\n",
            "50000/50000 [==============================] - 7s 134us/step - loss: 0.1029 - acc: 0.9656 - val_loss: 4.1704 - val_acc: 0.5016\n",
            "Epoch 76/100\n",
            "50000/50000 [==============================] - 7s 134us/step - loss: 0.1126 - acc: 0.9611 - val_loss: 4.1532 - val_acc: 0.4956\n",
            "Epoch 77/100\n",
            "50000/50000 [==============================] - 7s 134us/step - loss: 0.1191 - acc: 0.9601 - val_loss: 4.1750 - val_acc: 0.4974\n",
            "Epoch 78/100\n",
            "50000/50000 [==============================] - 7s 133us/step - loss: 0.1132 - acc: 0.9623 - val_loss: 4.2002 - val_acc: 0.5017\n",
            "Epoch 79/100\n",
            "50000/50000 [==============================] - 7s 134us/step - loss: 0.1348 - acc: 0.9544 - val_loss: 4.1743 - val_acc: 0.5029\n",
            "Epoch 80/100\n",
            "50000/50000 [==============================] - 7s 140us/step - loss: 0.1209 - acc: 0.9596 - val_loss: 4.1673 - val_acc: 0.5005\n",
            "Epoch 81/100\n",
            "50000/50000 [==============================] - 7s 136us/step - loss: 0.0811 - acc: 0.9719 - val_loss: 4.2276 - val_acc: 0.5048\n",
            "Epoch 82/100\n",
            "50000/50000 [==============================] - 7s 131us/step - loss: 0.0967 - acc: 0.9681 - val_loss: 4.2265 - val_acc: 0.4999\n",
            "Epoch 83/100\n",
            "50000/50000 [==============================] - 7s 132us/step - loss: 0.1022 - acc: 0.9665 - val_loss: 4.2891 - val_acc: 0.4993\n",
            "Epoch 84/100\n",
            "50000/50000 [==============================] - 7s 134us/step - loss: 0.1184 - acc: 0.9611 - val_loss: 4.2950 - val_acc: 0.4948\n",
            "Epoch 85/100\n",
            "50000/50000 [==============================] - 7s 134us/step - loss: 0.1299 - acc: 0.9570 - val_loss: 4.1624 - val_acc: 0.5024\n",
            "Epoch 86/100\n",
            "50000/50000 [==============================] - 7s 136us/step - loss: 0.0845 - acc: 0.9716 - val_loss: 4.3112 - val_acc: 0.5063\n",
            "Epoch 87/100\n",
            "50000/50000 [==============================] - 7s 131us/step - loss: 0.0990 - acc: 0.9668 - val_loss: 4.2428 - val_acc: 0.5057\n",
            "Epoch 88/100\n",
            "50000/50000 [==============================] - 7s 134us/step - loss: 0.0952 - acc: 0.9684 - val_loss: 4.2373 - val_acc: 0.4994\n",
            "Epoch 89/100\n",
            "50000/50000 [==============================] - 7s 137us/step - loss: 0.1009 - acc: 0.9671 - val_loss: 4.2936 - val_acc: 0.5030\n",
            "Epoch 90/100\n",
            "50000/50000 [==============================] - 7s 134us/step - loss: 0.1001 - acc: 0.9674 - val_loss: 4.3230 - val_acc: 0.5079\n",
            "Epoch 91/100\n",
            "50000/50000 [==============================] - 7s 134us/step - loss: 0.0913 - acc: 0.9694 - val_loss: 4.3301 - val_acc: 0.4975\n",
            "Epoch 92/100\n",
            "50000/50000 [==============================] - 7s 133us/step - loss: 0.1338 - acc: 0.9561 - val_loss: 4.3952 - val_acc: 0.4985\n",
            "Epoch 93/100\n",
            "50000/50000 [==============================] - 7s 136us/step - loss: 0.0801 - acc: 0.9733 - val_loss: 4.2935 - val_acc: 0.4999\n",
            "Epoch 94/100\n",
            "50000/50000 [==============================] - 7s 134us/step - loss: 0.0734 - acc: 0.9749 - val_loss: 4.3604 - val_acc: 0.5074\n",
            "Epoch 95/100\n",
            "50000/50000 [==============================] - 7s 135us/step - loss: 0.0791 - acc: 0.9738 - val_loss: 4.3629 - val_acc: 0.5036\n",
            "Epoch 96/100\n",
            "50000/50000 [==============================] - 7s 132us/step - loss: 0.1407 - acc: 0.9542 - val_loss: 4.2761 - val_acc: 0.5027\n",
            "Epoch 97/100\n",
            "50000/50000 [==============================] - 7s 134us/step - loss: 0.1122 - acc: 0.9625 - val_loss: 4.3034 - val_acc: 0.5070\n",
            "Epoch 98/100\n",
            "50000/50000 [==============================] - 7s 136us/step - loss: 0.0924 - acc: 0.9696 - val_loss: 4.2885 - val_acc: 0.5098\n",
            "Epoch 99/100\n",
            "50000/50000 [==============================] - 7s 134us/step - loss: 0.0556 - acc: 0.9810 - val_loss: 4.4003 - val_acc: 0.5061\n",
            "Epoch 100/100\n",
            "50000/50000 [==============================] - 7s 132us/step - loss: 0.0764 - acc: 0.9752 - val_loss: 4.4340 - val_acc: 0.4954\n"
          ],
          "name": "stdout"
        },
        {
          "output_type": "execute_result",
          "data": {
            "text/plain": [
              "<keras.callbacks.History at 0x7f2c12c22518>"
            ]
          },
          "metadata": {
            "tags": []
          },
          "execution_count": 46
        }
      ]
    },
    {
      "cell_type": "code",
      "metadata": {
        "id": "8JOuUNCWdgIM",
        "colab_type": "code",
        "colab": {
          "base_uri": "https://localhost:8080/",
          "height": 545
        },
        "outputId": "1713b5fe-7371-4792-93e6-065a1269f178"
      },
      "source": [
        "import matplotlib.pyplot as plt\n",
        "\n",
        "\n",
        "train_loss = model.history.history[\"loss\"]\n",
        "valid_loss = model.history.history[\"val_loss\"]\n",
        "\n",
        "train_acc = model.history.history[\"acc\"]\n",
        "valid_acc = model.history.history[\"val_acc\"]\n",
        "\n",
        "plt.plot(range(len(train_loss)), train_loss, label=\"train loss\")\n",
        "plt.plot(range(len(valid_loss)), valid_loss, label=\"valid loss\")\n",
        "plt.legend()\n",
        "plt.title(\"Loss\")\n",
        "plt.show()\n",
        "\n",
        "plt.plot(range(len(train_acc)), train_acc, label=\"train accuracy\")\n",
        "plt.plot(range(len(valid_acc)), valid_acc, label=\"valid accuracy\")\n",
        "plt.legend()\n",
        "plt.title(\"Accuracy\")\n",
        "plt.show()"
      ],
      "execution_count": 47,
      "outputs": [
        {
          "output_type": "display_data",
          "data": {
            "image/png": "[encoded data removed]",
            "text/plain": [
              "<Figure size 432x288 with 1 Axes>"
            ]
          },
          "metadata": {
            "tags": []
          }
        },
        {
          "output_type": "display_data",
          "data": {
            "image/png": "[encoded data removed]",
            "text/plain": [
              "<Figure size 432x288 with 1 Axes>"
            ]
          },
          "metadata": {
            "tags": []
          }
        }
      ]
    }
  ]
}