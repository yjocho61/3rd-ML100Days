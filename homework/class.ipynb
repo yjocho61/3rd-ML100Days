{
 "cells": [
  {
   "cell_type": "code",
   "execution_count": 34,
   "metadata": {
    "collapsed": true
   },
   "outputs": [],
   "source": [
    "class Dog():\n",
    "    \"\"\"\n",
    "    A simple attempt to model a dog.\n",
    "    \"\"\"\n",
    "    \n",
    "    def __init__(self, name, age):\n",
    "        \"\"\"initialize name and age attributes.\"\"\"\n",
    "        self.name = str(name)\n",
    "        self.age = age\n",
    "    \n",
    "    def sit(self):\n",
    "        \"\"\"Simulate a dog sitting in response to a command.\"\"\"\n",
    "        print(self.name.title() + ' is now sitting.')\n",
    "        \n",
    "    def roll_over(self):\n",
    "        \"\"\"Simulate rolling over in response to a command.\"\"\"\n",
    "        print(self.name.title() + ' rolled over!')\n",
    "    \n",
    "    \n"
   ]
  },
  {
   "cell_type": "code",
   "execution_count": 37,
   "metadata": {},
   "outputs": [
    {
     "name": "stdout",
     "output_type": "stream",
     "text": [
      "Mark is 10 years old.\n"
     ]
    }
   ],
   "source": [
    "my_dog = Dog('mark', 10)\n",
    "print(my_dog.name.title() + \" is \" + str(my_dog.age) + \" years old.\")"
   ]
  },
  {
   "cell_type": "code",
   "execution_count": 32,
   "metadata": {},
   "outputs": [
    {
     "name": "stdout",
     "output_type": "stream",
     "text": [
      "Mark is now sitting.\n",
      "Mark rolled over!\n"
     ]
    }
   ],
   "source": [
    "my_dog.sit()\n",
    "my_dog.roll_over()"
   ]
  },
  {
   "cell_type": "code",
   "execution_count": 39,
   "metadata": {},
   "outputs": [],
   "source": [
    "class Restaurant():\n",
    "    def __init__(self, restaurant_name, cuisine_type):\n",
    "        self.name = restaurant_name\n",
    "        self.cuisine_type = cuisine_type\n",
    "        self.number_served = 10\n",
    "    def describe_restaurant(self):\n",
    "        print(self.name)\n",
    "        print(self.cuisine_type)\n",
    "    def open_restaurant(self):\n",
    "        print(self.name, 'is opening.')\n",
    "    def set_number_served(self):\n",
    "        try:\n",
    "            number = int(input('set number served:'))\n",
    "            self.number_served = number\n",
    "        except ValueError:\n",
    "            print('incorrect input')\n",
    "        "
   ]
  },
  {
   "cell_type": "code",
   "execution_count": 40,
   "metadata": {},
   "outputs": [
    {
     "name": "stdout",
     "output_type": "stream",
     "text": [
      "ERIC BURGER hamburger\n",
      "ERIC BURGER\n",
      "hamburger\n",
      "ERIC BURGER is opening.\n",
      "10\n",
      "set number served:we\n",
      "incorrect input\n",
      "10\n"
     ]
    }
   ],
   "source": [
    "my_restaurant = Restaurant('ERIC BURGER', 'hamburger')\n",
    "print(my_restaurant.name, my_restaurant.cuisine_type)\n",
    "my_restaurant.describe_restaurant()\n",
    "my_restaurant.open_restaurant()\n",
    "print(my_restaurant.number_served)\n",
    "my_restaurant.set_number_served()\n",
    "print(my_restaurant.number_served)"
   ]
  },
  {
   "cell_type": "code",
   "execution_count": 49,
   "metadata": {},
   "outputs": [],
   "source": [
    "class IceCreamStand(Restaurant):\n",
    "    def __init__(self, restaurant_name, cuisine_type):\n",
    "        super().__init__(restaurant_name, cuisine_type)\n",
    "        self.flavors = ['chocolate', 'strawberry', 'fruits']\n",
    "    def print_flavors(self):\n",
    "        print('flavors:')\n",
    "        for element in self.flavors:\n",
    "            print(element)"
   ]
  },
  {
   "cell_type": "code",
   "execution_count": 50,
   "metadata": {},
   "outputs": [
    {
     "name": "stdout",
     "output_type": "stream",
     "text": [
      "flavors:\n",
      "chocolate\n",
      "strawberry\n",
      "fruits\n"
     ]
    }
   ],
   "source": [
    "my_icecream_store = IceCreamStand('ERIC ICER', 'icecream')\n",
    "my_icecream_store.print_flavors()"
   ]
  },
  {
   "cell_type": "code",
   "execution_count": 41,
   "metadata": {
    "collapsed": true
   },
   "outputs": [],
   "source": [
    "class User():\n",
    "    def __init__(self, first_name, last_name, age, gender):\n",
    "        self.first_name = first_name\n",
    "        self.last_name = last_name\n",
    "        self.age = age\n",
    "        self.gender = gender.title()\n",
    "        self.login_attempts = 0\n",
    "        \n",
    "    def describe_user(self):\n",
    "        print('Name:', self.first_name, self.last_name)\n",
    "        print('Age:', self.age)\n",
    "        print('gender:', self.gender)\n",
    "    \n",
    "    def greet_user(self):\n",
    "        if self.gender == 'Male':\n",
    "            gender = 'Mr.'\n",
    "        else:\n",
    "            genfer = 'Ms.'\n",
    "            \n",
    "        print('Hello!', gender, self.first_name, self.last_name, '.')\n",
    "    \n",
    "    def increment_login_attempts(self):\n",
    "        self.login_attempts += 1\n",
    "    def reset_login_attempts(self):\n",
    "        self.login_attempts = 0"
   ]
  },
  {
   "cell_type": "code",
   "execution_count": 43,
   "metadata": {},
   "outputs": [
    {
     "name": "stdout",
     "output_type": "stream",
     "text": [
      "Name: Eric Chang\n",
      "Age: 27\n",
      "gender: Male\n",
      "Hello! Mr. Eric Chang .\n",
      "0\n",
      "10\n",
      "0\n"
     ]
    }
   ],
   "source": [
    "my_account = User('Eric', 'Chang', 27, 'male')\n",
    "my_account.describe_user()\n",
    "my_account.greet_user()\n",
    "print(my_account.login_attempts)\n",
    "for i in range(10):\n",
    "    my_account.increment_login_attempts()\n",
    "print(my_account.login_attempts)\n",
    "my_account.reset_login_attempts()\n",
    "print(my_account.login_attempts)"
   ]
  },
  {
   "cell_type": "code",
   "execution_count": 60,
   "metadata": {
    "collapsed": true
   },
   "outputs": [],
   "source": [
    "class Privileges():\n",
    "    def __init__(self):\n",
    "        self.privileges = ['can add post', 'can delete post', 'can ban user']\n",
    "    def show_privileges(self):\n",
    "        for element in self.privileges:\n",
    "            print(element)\n",
    "class Admin(User):\n",
    "    def __init__(self, first_name, last_name, age, gender):\n",
    "        super().__init__(first_name, last_name, age, gender)\n",
    "        self.privileges = Privileges()\n",
    "    def show_admin_privileges(self):\n",
    "        print(self.first_name + \"'s privileges:\")\n",
    "        self.privileges.show_privileges()"
   ]
  },
  {
   "cell_type": "code",
   "execution_count": 62,
   "metadata": {},
   "outputs": [
    {
     "name": "stdout",
     "output_type": "stream",
     "text": [
      "Eric's privileges:\n",
      "can add post\n",
      "can delete post\n",
      "can ban user\n"
     ]
    }
   ],
   "source": [
    "eric_admin = Admin('Eric', 'Chang', 27, 'male')\n",
    "eric_admin.show_admin_privileges()"
   ]
  },
  {
   "cell_type": "code",
   "execution_count": 2,
   "metadata": {
    "collapsed": true
   },
   "outputs": [],
   "source": [
    "class Car():\n",
    "    def __init__(self, make, model, year):\n",
    "        self.make = make\n",
    "        self.model = model\n",
    "        self.year = year\n",
    "        self.odometer_reading = 0\n",
    "        \n",
    "    def get_descriptive_name(self):\n",
    "        long_name = str(self.year) + ' ' + self.make + ' ' + self.model\n",
    "        return long_name.title()\n",
    "    \n",
    "    def read_odometer(self):\n",
    "        print('This car has ' + str(self.odometer_reading) + ' miles on it.')\n",
    "        \n",
    "    def update_otometer(self, mileage):\n",
    "        if mileage >= self.odometer_reading:\n",
    "            self.odometer_reading = mileage\n",
    "        else:\n",
    "            print('You cannot roll back an odometer!')\n",
    "    def increment_odometer(self, miles):\n",
    "        if miles >= 0:\n",
    "            self.odometer_reading += miles\n",
    "        else:\n",
    "            print('You cannot roll back an odometer!')"
   ]
  },
  {
   "cell_type": "code",
   "execution_count": 11,
   "metadata": {},
   "outputs": [
    {
     "name": "stdout",
     "output_type": "stream",
     "text": [
      "2016 Auti A4\n",
      "This car has 150 miles on it.\n",
      "You cannot roll back an odometer!\n",
      "This car has 160 miles on it.\n",
      "You cannot roll back an odometer!\n",
      "This car has 160 miles on it.\n",
      "This car has 0 miles on it.\n"
     ]
    }
   ],
   "source": [
    "my_car = Car('auti', 'a4', 2016)\n",
    "print(my_car.get_descriptive_name())\n",
    "my_car.update_otometer(150)\n",
    "my_car.read_odometer()\n",
    "my_car.update_otometer(100)\n",
    "my_car.increment_odometer(10)\n",
    "my_car.read_odometer()\n",
    "my_car.increment_odometer(-10)\n",
    "my_car.read_odometer()\n",
    "my_car.odometer_reading = 0\n",
    "my_car.read_odometer()"
   ]
  },
  {
   "cell_type": "code",
   "execution_count": 63,
   "metadata": {},
   "outputs": [],
   "source": [
    "class Battery():\n",
    "    def __init__(self):\n",
    "        self.battery_size = 70\n",
    "    def describe_battery(self):\n",
    "        print('This car has a ' +  str(self.battery_size) + '-kWh battery.')\n",
    "    def change_battery_size(self):\n",
    "        battery_size = int(input('Battery size:'))\n",
    "        if battery_size != 70 and battery_size != 85:\n",
    "            print('UNSUITABLE BATTERY SIZE!(You can only input 70 or 80)')\n",
    "        else:\n",
    "            self.battery_size = battery_size\n",
    "    \n",
    "\n",
    "class ElectricCar(Car):\n",
    "    def __init__(self, make, model, year):\n",
    "        super().__init__(make, model, year)\n",
    "        self.battery = Battery()\n",
    "    def get_range(self):\n",
    "        if self.battery.battery_size == 70:\n",
    "            range = 240\n",
    "        elif self.battery.battery_size == 85:\n",
    "            range = 270\n",
    "        message = 'This car can go approximately ' + str(range) + ' miles on full charge.'\n",
    "        print(message)"
   ]
  },
  {
   "cell_type": "code",
   "execution_count": 65,
   "metadata": {},
   "outputs": [
    {
     "name": "stdout",
     "output_type": "stream",
     "text": [
      "2016 Tesla Model S\n",
      "This car has a 70-kWh battery.\n",
      "This car can go approximately 240 miles on full charge.\n",
      "This car has a 70-kWh battery.\n",
      "This car can go approximately 240 miles on full charge.\n",
      "Battery size:75\n",
      "UNSUITABLE BATTERY SIZE!(You can only input 70 or 80)\n",
      "This car has a 70-kWh battery.\n",
      "This car can go approximately 240 miles on full charge.\n"
     ]
    }
   ],
   "source": [
    "my_electric_car = ElectricCar('tesla', 'model s', 2016)\n",
    "print(my_electric_car.get_descriptive_name())\n",
    "my_electric_car.battery.describe_battery()\n",
    "my_electric_car.get_range()\n",
    "my_electric_car.battery.battery_size = 70\n",
    "my_electric_car.battery.describe_battery()\n",
    "my_electric_car.get_range()\n",
    "my_electric_car.battery.change_battery_size()\n",
    "my_electric_car.battery.describe_battery()\n",
    "my_electric_car.get_range()"
   ]
  }
 ],
 "metadata": {
  "kernelspec": {
   "display_name": "Python 3",
   "language": "python",
   "name": "python3"
  },
  "language_info": {
   "codemirror_mode": {
    "name": "ipython",
    "version": 3
   },
   "file_extension": ".py",
   "mimetype": "text/x-python",
   "name": "python",
   "nbconvert_exporter": "python",
   "pygments_lexer": "ipython3",
   "version": "3.6.3"
  }
 },
 "nbformat": 4,
 "nbformat_minor": 2
}
