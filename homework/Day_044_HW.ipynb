{
 "cells": [
  {
   "cell_type": "markdown",
   "metadata": {},
   "source": [
    "## [作業重點]\n",
    "確保你了解隨機森林模型中每個超參數的意義，並觀察調整超參數對結果的影響"
   ]
  },
  {
   "cell_type": "markdown",
   "metadata": {},
   "source": [
    "## 作業\n",
    "\n",
    "1. 試著調整 RandomForestClassifier(...) 中的參數，並觀察是否會改變結果？\n",
    "2. 改用其他資料集 (boston, wine)，並與回歸模型與決策樹的結果進行比較"
   ]
  },
  {
   "cell_type": "code",
   "execution_count": 1,
   "metadata": {},
   "outputs": [],
   "source": [
    "from sklearn.ensemble import RandomForestRegressor, RandomForestClassifier\n",
    "from sklearn import datasets, metrics\n",
    "from sklearn.model_selection import train_test_split\n",
    "import pandas as pd\n"
   ]
  },
  {
   "cell_type": "code",
   "execution_count": 3,
   "metadata": {},
   "outputs": [],
   "source": [
    "boston = datasets.load_boston()\n",
    "X = boston.data\n",
    "y = boston.target\n",
    "\n",
    "train_X, test_X, train_y, test_y = train_test_split(X, y, test_size = 0.3, random_state = 0)\n"
   ]
  },
  {
   "cell_type": "code",
   "execution_count": 22,
   "metadata": {},
   "outputs": [
    {
     "name": "stdout",
     "output_type": "stream",
     "text": [
      "n_estimators = 5 score = 0.773689\n",
      "n_estimators = 6 score = 0.745966\n",
      "n_estimators = 7 score = 0.773482\n",
      "n_estimators = 8 score = 0.802510\n",
      "n_estimators = 9 score = 0.680792\n",
      "n_estimators = 10 score = 0.774361\n",
      "n_estimators = 11 score = 0.727926\n",
      "n_estimators = 12 score = 0.735808\n",
      "n_estimators = 13 score = 0.744910\n",
      "n_estimators = 14 score = 0.775252\n"
     ]
    }
   ],
   "source": [
    "for i in range(5, 15):\n",
    "    model = RandomForestRegressor(n_estimators = i, random_state=None)\n",
    "    model.fit(train_X, train_y)\n",
    "    pred_y = model.predict(test_X)\n",
    "    score = metrics.r2_score(pred_y, test_y)\n",
    "    print('n_estimators = %d' %i, 'score = %f' %score)"
   ]
  },
  {
   "cell_type": "code",
   "execution_count": 11,
   "metadata": {},
   "outputs": [
    {
     "data": {
      "text/plain": [
       "(506, 13)"
      ]
     },
     "execution_count": 11,
     "metadata": {},
     "output_type": "execute_result"
    }
   ],
   "source": [
    "X.shape"
   ]
  },
  {
   "cell_type": "code",
   "execution_count": 23,
   "metadata": {},
   "outputs": [
    {
     "name": "stdout",
     "output_type": "stream",
     "text": [
      "max_depth = 5 score = 0.664409\n",
      "max_depth = 6 score = 0.711261\n",
      "max_depth = 7 score = 0.653106\n",
      "max_depth = 8 score = 0.742891\n",
      "max_depth = 9 score = 0.811360\n",
      "max_depth = 10 score = 0.790110\n",
      "max_depth = 11 score = 0.745771\n",
      "max_depth = 12 score = 0.779740\n",
      "max_depth = 13 score = 0.719426\n",
      "max_depth = 14 score = 0.800540\n",
      "max_depth = 15 score = 0.729048\n",
      "max_depth = 16 score = 0.638759\n",
      "max_depth = 17 score = 0.667105\n",
      "max_depth = 18 score = 0.800049\n",
      "max_depth = 19 score = 0.750583\n",
      "max_depth = 20 score = 0.714364\n",
      "max_depth = 21 score = 0.719292\n",
      "max_depth = 22 score = 0.745073\n",
      "max_depth = 23 score = 0.735501\n",
      "max_depth = 24 score = 0.799830\n",
      "max_depth = 25 score = 0.709923\n",
      "max_depth = 26 score = 0.725173\n",
      "max_depth = 27 score = 0.700367\n",
      "max_depth = 28 score = 0.737511\n",
      "max_depth = 29 score = 0.722384\n"
     ]
    }
   ],
   "source": [
    "for i in range(5, 30):\n",
    "    model = RandomForestRegressor(n_estimators = 8, max_depth = i, random_state=None)\n",
    "    model.fit(train_X, train_y)\n",
    "    pred_y = model.predict(test_X)\n",
    "    score = metrics.r2_score(pred_y, test_y)\n",
    "    print('max_depth = %d' %i, 'score = %f' %score)"
   ]
  }
 ],
 "metadata": {
  "kernelspec": {
   "display_name": "Python 3",
   "language": "python",
   "name": "python3"
  },
  "language_info": {
   "codemirror_mode": {
    "name": "ipython",
    "version": 3
   },
   "file_extension": ".py",
   "mimetype": "text/x-python",
   "name": "python",
   "nbconvert_exporter": "python",
   "pygments_lexer": "ipython3",
   "version": "3.7.3"
  }
 },
 "nbformat": 4,
 "nbformat_minor": 2
}
