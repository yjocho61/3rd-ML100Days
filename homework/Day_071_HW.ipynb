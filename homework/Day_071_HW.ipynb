{
  "nbformat": 4,
  "nbformat_minor": 0,
  "metadata": {
    "colab": {
      "name": "Day71-_______HW.ipynb",
      "provenance": [],
      "collapsed_sections": []
    },
    "kernelspec": {
      "display_name": "Python 3",
      "language": "python",
      "name": "python3"
    },
    "language_info": {
      "codemirror_mode": {
        "name": "ipython",
        "version": 3
      },
      "file_extension": ".py",
      "mimetype": "text/x-python",
      "name": "python",
      "nbconvert_exporter": "python",
      "pygments_lexer": "ipython3",
      "version": "3.7.3"
    }
  },
  "cells": [
    {
      "cell_type": "markdown",
      "metadata": {
        "colab_type": "text",
        "id": "cj4tE8e8iUtO"
      },
      "source": [
        "#   \n",
        "\n",
        "# 作業目標:\n",
        "\n",
        "    1. 藉由固定的 dataset, 來驗證不同loss function\n",
        "    2. Dataset 的特性跟我們選用的loss function 對accrancy 的影響\n",
        "    \n",
        "    \n",
        "# 作業重點: \n",
        "    請分別選用 \"MSE\", \"binary _crossentropy\"\n",
        "    查看Train/test accurancy and loss rate\n",
        "    "
      ]
    },
    {
      "cell_type": "markdown",
      "metadata": {
        "colab_type": "text",
        "id": "R51J4KyyiUsL"
      },
      "source": [
        "# 導入必要的函數"
      ]
    },
    {
      "cell_type": "code",
      "metadata": {
        "colab_type": "code",
        "id": "Qd68OQjciUsM",
        "colab": {
          "base_uri": "https://localhost:8080/",
          "height": 80
        },
        "outputId": "d974c6e5-d1df-4a12-9c0e-0974e2b71b23"
      },
      "source": [
        "from keras.datasets import cifar10\n",
        "import numpy as np\n",
        "np.random.seed(10)"
      ],
      "execution_count": 1,
      "outputs": [
        {
          "output_type": "stream",
          "text": [
            "Using TensorFlow backend.\n"
          ],
          "name": "stderr"
        },
        {
          "output_type": "display_data",
          "data": {
            "text/html": [
              "<p style=\"color: red;\">\n",
              "The default version of TensorFlow in Colab will soon switch to TensorFlow 2.x.<br>\n",
              "We recommend you <a href=\"https://www.tensorflow.org/guide/migrate\" target=\"_blank\">upgrade</a> now \n",
              "or ensure your notebook will continue to use TensorFlow 1.x via the <code>%tensorflow_version 1.x</code> magic:\n",
              "<a href=\"https://colab.research.google.com/notebooks/tensorflow_version.ipynb\" target=\"_blank\">more info</a>.</p>\n"
            ],
            "text/plain": [
              "<IPython.core.display.HTML object>"
            ]
          },
          "metadata": {
            "tags": []
          }
        }
      ]
    },
    {
      "cell_type": "markdown",
      "metadata": {
        "colab_type": "text",
        "id": "GxKuzQLQiUsP"
      },
      "source": [
        "# 資料準備"
      ]
    },
    {
      "cell_type": "code",
      "metadata": {
        "colab_type": "code",
        "id": "MIbFZdTCiUsQ",
        "colab": {
          "base_uri": "https://localhost:8080/",
          "height": 51
        },
        "outputId": "4de514d1-ca5e-4aba-abc9-b32f26d7282b"
      },
      "source": [
        "#取得Keras Dataset\n",
        "(x_img_train,y_label_train),(x_img_test,y_label_test)=cifar10.load_data()"
      ],
      "execution_count": 2,
      "outputs": [
        {
          "output_type": "stream",
          "text": [
            "Downloading data from https://www.cs.toronto.edu/~kriz/cifar-10-python.tar.gz\n",
            "170500096/170498071 [==============================] - 2s 0us/step\n"
          ],
          "name": "stdout"
        }
      ]
    },
    {
      "cell_type": "code",
      "metadata": {
        "colab_type": "code",
        "id": "J8CJVjNOiUsS",
        "colab": {
          "base_uri": "https://localhost:8080/",
          "height": 51
        },
        "outputId": "d71a0f02-648b-42a0-ddaf-818e81f00072"
      },
      "source": [
        "#確認 CIFAR10 Dataset 資料維度\n",
        "print(\"train data:\",'images:',x_img_train.shape,\n",
        "      \" labels:\",y_label_train.shape) \n",
        "print(\"test  data:\",'images:',x_img_test.shape ,\n",
        "      \" labels:\",y_label_test.shape) "
      ],
      "execution_count": 3,
      "outputs": [
        {
          "output_type": "stream",
          "text": [
            "train data: images: (50000, 32, 32, 3)  labels: (50000, 1)\n",
            "test  data: images: (10000, 32, 32, 3)  labels: (10000, 1)\n"
          ],
          "name": "stdout"
        }
      ]
    },
    {
      "cell_type": "code",
      "metadata": {
        "colab_type": "code",
        "id": "V3P6P4DXiUsV",
        "colab": {}
      },
      "source": [
        "#資料正規化\n",
        "x_img_train_normalize = x_img_train.astype('float32') / 255.0\n",
        "x_img_test_normalize = x_img_test.astype('float32') / 255.0"
      ],
      "execution_count": 0,
      "outputs": []
    },
    {
      "cell_type": "code",
      "metadata": {
        "colab_type": "code",
        "id": "vsDyjKYliUsX",
        "colab": {
          "base_uri": "https://localhost:8080/",
          "height": 34
        },
        "outputId": "b113d246-3ce8-42c7-b3c2-53ae5de950e1"
      },
      "source": [
        "#針對Label 做 ONE HOT ENCODE\n",
        "from keras.utils import np_utils\n",
        "y_label_train_OneHot = np_utils.to_categorical(y_label_train)\n",
        "y_label_test_OneHot = np_utils.to_categorical(y_label_test)\n",
        "y_label_test_OneHot.shape"
      ],
      "execution_count": 5,
      "outputs": [
        {
          "output_type": "execute_result",
          "data": {
            "text/plain": [
              "(10000, 10)"
            ]
          },
          "metadata": {
            "tags": []
          },
          "execution_count": 5
        }
      ]
    },
    {
      "cell_type": "markdown",
      "metadata": {
        "colab_type": "text",
        "id": "RutW2OtgiUsZ"
      },
      "source": [
        "# 建立模型"
      ]
    },
    {
      "cell_type": "code",
      "metadata": {
        "colab_type": "code",
        "id": "aHz592aXiUsa",
        "colab": {}
      },
      "source": [
        "from keras.models import Sequential\n",
        "from keras.layers import Dense, Dropout, Activation, Flatten\n",
        "from keras.layers import Conv2D, MaxPooling2D, ZeroPadding2D"
      ],
      "execution_count": 0,
      "outputs": []
    },
    {
      "cell_type": "code",
      "metadata": {
        "colab_type": "code",
        "id": "hslqrIp0iUse",
        "colab": {
          "base_uri": "https://localhost:8080/",
          "height": 71
        },
        "outputId": "e290b45c-8cb2-4744-b646-72ffdce74f0d"
      },
      "source": [
        "model = Sequential()"
      ],
      "execution_count": 7,
      "outputs": [
        {
          "output_type": "stream",
          "text": [
            "WARNING:tensorflow:From /usr/local/lib/python3.6/dist-packages/keras/backend/tensorflow_backend.py:66: The name tf.get_default_graph is deprecated. Please use tf.compat.v1.get_default_graph instead.\n",
            "\n"
          ],
          "name": "stdout"
        }
      ]
    },
    {
      "cell_type": "code",
      "metadata": {
        "colab_type": "code",
        "id": "Hqe35hs2iUsi",
        "colab": {}
      },
      "source": [
        "#卷積層1"
      ],
      "execution_count": 0,
      "outputs": []
    },
    {
      "cell_type": "code",
      "metadata": {
        "colab_type": "code",
        "id": "ED7dqe1YiUsm",
        "colab": {
          "base_uri": "https://localhost:8080/",
          "height": 105
        },
        "outputId": "96fc7efc-19be-4308-bd55-36336f7c30a8"
      },
      "source": [
        "model.add(Conv2D(filters=32,kernel_size=(3,3),\n",
        "                 input_shape=(32, 32,3), \n",
        "                 activation='relu', \n",
        "                 padding='same'))"
      ],
      "execution_count": 9,
      "outputs": [
        {
          "output_type": "stream",
          "text": [
            "WARNING:tensorflow:From /usr/local/lib/python3.6/dist-packages/keras/backend/tensorflow_backend.py:541: The name tf.placeholder is deprecated. Please use tf.compat.v1.placeholder instead.\n",
            "\n",
            "WARNING:tensorflow:From /usr/local/lib/python3.6/dist-packages/keras/backend/tensorflow_backend.py:4432: The name tf.random_uniform is deprecated. Please use tf.random.uniform instead.\n",
            "\n"
          ],
          "name": "stdout"
        }
      ]
    },
    {
      "cell_type": "code",
      "metadata": {
        "colab_type": "code",
        "id": "n-GRKmPViUso",
        "colab": {
          "base_uri": "https://localhost:8080/",
          "height": 122
        },
        "outputId": "a5d3eb43-a6e0-4845-aa6a-10ced92800fd"
      },
      "source": [
        "model.add(Dropout(rate=0.25))"
      ],
      "execution_count": 10,
      "outputs": [
        {
          "output_type": "stream",
          "text": [
            "WARNING:tensorflow:From /usr/local/lib/python3.6/dist-packages/keras/backend/tensorflow_backend.py:148: The name tf.placeholder_with_default is deprecated. Please use tf.compat.v1.placeholder_with_default instead.\n",
            "\n",
            "WARNING:tensorflow:From /usr/local/lib/python3.6/dist-packages/keras/backend/tensorflow_backend.py:3733: calling dropout (from tensorflow.python.ops.nn_ops) with keep_prob is deprecated and will be removed in a future version.\n",
            "Instructions for updating:\n",
            "Please use `rate` instead of `keep_prob`. Rate should be set to `rate = 1 - keep_prob`.\n"
          ],
          "name": "stdout"
        }
      ]
    },
    {
      "cell_type": "code",
      "metadata": {
        "colab_type": "code",
        "id": "GlWnnD1uiUsw",
        "colab": {
          "base_uri": "https://localhost:8080/",
          "height": 71
        },
        "outputId": "6cbe484a-a75f-4c03-8ae8-7d7a07e0ad2b"
      },
      "source": [
        "model.add(MaxPooling2D(pool_size=(2, 2)))"
      ],
      "execution_count": 11,
      "outputs": [
        {
          "output_type": "stream",
          "text": [
            "WARNING:tensorflow:From /usr/local/lib/python3.6/dist-packages/keras/backend/tensorflow_backend.py:4267: The name tf.nn.max_pool is deprecated. Please use tf.nn.max_pool2d instead.\n",
            "\n"
          ],
          "name": "stdout"
        }
      ]
    },
    {
      "cell_type": "code",
      "metadata": {
        "colab_type": "code",
        "id": "nawlkt55iUsy",
        "colab": {}
      },
      "source": [
        "#卷積層2與池化層2"
      ],
      "execution_count": 0,
      "outputs": []
    },
    {
      "cell_type": "code",
      "metadata": {
        "colab_type": "code",
        "id": "xxyETiKNiUs1",
        "colab": {}
      },
      "source": [
        "model.add(Conv2D(filters=64, kernel_size=(3, 3), \n",
        "                 activation='relu', padding='same'))"
      ],
      "execution_count": 0,
      "outputs": []
    },
    {
      "cell_type": "code",
      "metadata": {
        "colab_type": "code",
        "id": "RqcKWtqGiUs2",
        "colab": {}
      },
      "source": [
        "model.add(Dropout(0.25))"
      ],
      "execution_count": 0,
      "outputs": []
    },
    {
      "cell_type": "code",
      "metadata": {
        "colab_type": "code",
        "id": "BUOOzlqfiUs4",
        "colab": {}
      },
      "source": [
        "model.add(MaxPooling2D(pool_size=(2, 2)))"
      ],
      "execution_count": 0,
      "outputs": []
    },
    {
      "cell_type": "code",
      "metadata": {
        "colab_type": "code",
        "id": "LpkppB2siUs7",
        "colab": {}
      },
      "source": [
        "#建立神經網路(平坦層、隱藏層、輸出層)"
      ],
      "execution_count": 0,
      "outputs": []
    },
    {
      "cell_type": "code",
      "metadata": {
        "colab_type": "code",
        "id": "UQOfU54_iUs_",
        "colab": {}
      },
      "source": [
        "model.add(Flatten())\n",
        "model.add(Dropout(rate=0.25))"
      ],
      "execution_count": 0,
      "outputs": []
    },
    {
      "cell_type": "code",
      "metadata": {
        "colab_type": "code",
        "id": "_NV-8sq4iUtD",
        "colab": {}
      },
      "source": [
        "model.add(Dense(1024, activation='relu'))\n",
        "model.add(Dropout(rate=0.25))"
      ],
      "execution_count": 0,
      "outputs": []
    },
    {
      "cell_type": "code",
      "metadata": {
        "colab_type": "code",
        "id": "qVK77krOiUtF",
        "colab": {}
      },
      "source": [
        "model.add(Dense(10, activation='softmax'))"
      ],
      "execution_count": 0,
      "outputs": []
    },
    {
      "cell_type": "code",
      "metadata": {
        "colab_type": "code",
        "id": "ZxzRIjR0iUtH",
        "colab": {
          "base_uri": "https://localhost:8080/",
          "height": 544
        },
        "outputId": "b7b08068-4bc9-4226-bc19-3d9dd95c2fa5"
      },
      "source": [
        "#檢查model 的STACK\n",
        "print(model.summary())"
      ],
      "execution_count": 20,
      "outputs": [
        {
          "output_type": "stream",
          "text": [
            "Model: \"sequential_1\"\n",
            "_________________________________________________________________\n",
            "Layer (type)                 Output Shape              Param #   \n",
            "=================================================================\n",
            "conv2d_1 (Conv2D)            (None, 32, 32, 32)        896       \n",
            "_________________________________________________________________\n",
            "dropout_1 (Dropout)          (None, 32, 32, 32)        0         \n",
            "_________________________________________________________________\n",
            "max_pooling2d_1 (MaxPooling2 (None, 16, 16, 32)        0         \n",
            "_________________________________________________________________\n",
            "conv2d_2 (Conv2D)            (None, 16, 16, 64)        18496     \n",
            "_________________________________________________________________\n",
            "dropout_2 (Dropout)          (None, 16, 16, 64)        0         \n",
            "_________________________________________________________________\n",
            "max_pooling2d_2 (MaxPooling2 (None, 8, 8, 64)          0         \n",
            "_________________________________________________________________\n",
            "flatten_1 (Flatten)          (None, 4096)              0         \n",
            "_________________________________________________________________\n",
            "dropout_3 (Dropout)          (None, 4096)              0         \n",
            "_________________________________________________________________\n",
            "dense_1 (Dense)              (None, 1024)              4195328   \n",
            "_________________________________________________________________\n",
            "dropout_4 (Dropout)          (None, 1024)              0         \n",
            "_________________________________________________________________\n",
            "dense_2 (Dense)              (None, 10)                10250     \n",
            "=================================================================\n",
            "Total params: 4,224,970\n",
            "Trainable params: 4,224,970\n",
            "Non-trainable params: 0\n",
            "_________________________________________________________________\n",
            "None\n"
          ],
          "name": "stdout"
        }
      ]
    },
    {
      "cell_type": "markdown",
      "metadata": {
        "colab_type": "text",
        "id": "QJCtpJM0iUtJ"
      },
      "source": [
        "# 載入之前訓練的模型"
      ]
    },
    {
      "cell_type": "code",
      "metadata": {
        "colab_type": "code",
        "id": "JU3A6NzQiUtK",
        "colab": {
          "base_uri": "https://localhost:8080/",
          "height": 34
        },
        "outputId": "ba6f42a8-186e-4548-addf-13eed13720d2"
      },
      "source": [
        "try:\n",
        "    model.load_weights(\"SaveModel/cifarCnnModel.h5\")\n",
        "    print(\"載入模型成功!繼續訓練模型\")\n",
        "except :    \n",
        "    print(\"載入模型失敗!開始訓練一個新模型\")"
      ],
      "execution_count": 21,
      "outputs": [
        {
          "output_type": "stream",
          "text": [
            "載入模型失敗!開始訓練一個新模型\n"
          ],
          "name": "stdout"
        }
      ]
    },
    {
      "cell_type": "markdown",
      "metadata": {
        "colab_type": "text",
        "id": "qBbCuziziUtM"
      },
      "source": [
        "# 訓練模型"
      ]
    },
    {
      "cell_type": "code",
      "metadata": {
        "colab_type": "code",
        "id": "Q6BiBcseiUtP",
        "colab": {
          "base_uri": "https://localhost:8080/",
          "height": 139
        },
        "outputId": "a6545f36-58b0-459c-ab9f-e6d546e81cfe"
      },
      "source": [
        "model.compile(loss='binary_crossentropy', optimizer='sgd', metrics=['accuracy'])\n",
        "\n",
        "'''\n",
        "作業:\n",
        "請分別選用 \"MSE\", \"binary _crossentropy\"\n",
        "查看Train/test accurancy and loss rate\n",
        "'''\n",
        "\n"
      ],
      "execution_count": 24,
      "outputs": [
        {
          "output_type": "stream",
          "text": [
            "WARNING:tensorflow:From /usr/local/lib/python3.6/dist-packages/keras/backend/tensorflow_backend.py:3657: The name tf.log is deprecated. Please use tf.math.log instead.\n",
            "\n",
            "WARNING:tensorflow:From /usr/local/lib/python3.6/dist-packages/tensorflow_core/python/ops/nn_impl.py:183: where (from tensorflow.python.ops.array_ops) is deprecated and will be removed in a future version.\n",
            "Instructions for updating:\n",
            "Use tf.where in 2.0, which has the same broadcast rule as np.where\n"
          ],
          "name": "stdout"
        },
        {
          "output_type": "execute_result",
          "data": {
            "text/plain": [
              "'\\n作業:\\n請分別選用 \"MSE\", \"binary _crossentropy\"\\n查看Train/test accurancy and loss rate\\n'"
            ]
          },
          "metadata": {
            "tags": []
          },
          "execution_count": 24
        }
      ]
    },
    {
      "cell_type": "code",
      "metadata": {
        "id": "C0eHjJK0aseO",
        "colab_type": "code",
        "colab": {
          "base_uri": "https://localhost:8080/",
          "height": 442
        },
        "outputId": "88deb2d8-68e7-4ffc-c089-f9ba5ae218e5"
      },
      "source": [
        "train_history=model.fit(x_img_train_normalize, y_label_train_OneHot,\n",
        "                        validation_split=0.25,\n",
        "                        epochs=12, batch_size=128, verbose=1)   "
      ],
      "execution_count": 25,
      "outputs": [
        {
          "output_type": "stream",
          "text": [
            "Train on 37500 samples, validate on 12500 samples\n",
            "Epoch 1/12\n",
            "37500/37500 [==============================] - 135s 4ms/step - loss: 0.3203 - acc: 0.9000 - val_loss: 0.3194 - val_acc: 0.9000\n",
            "Epoch 2/12\n",
            "37500/37500 [==============================] - 133s 4ms/step - loss: 0.3167 - acc: 0.9000 - val_loss: 0.3163 - val_acc: 0.9000\n",
            "Epoch 3/12\n",
            "37500/37500 [==============================] - 132s 4ms/step - loss: 0.3124 - acc: 0.9000 - val_loss: 0.3124 - val_acc: 0.9000\n",
            "Epoch 4/12\n",
            "37500/37500 [==============================] - 132s 4ms/step - loss: 0.3068 - acc: 0.9000 - val_loss: 0.3077 - val_acc: 0.9000\n",
            "Epoch 5/12\n",
            "37500/37500 [==============================] - 133s 4ms/step - loss: 0.3014 - acc: 0.9001 - val_loss: 0.3029 - val_acc: 0.9000\n",
            "Epoch 6/12\n",
            "37500/37500 [==============================] - 133s 4ms/step - loss: 0.2964 - acc: 0.9003 - val_loss: 0.2990 - val_acc: 0.9000\n",
            "Epoch 7/12\n",
            "37500/37500 [==============================] - 133s 4ms/step - loss: 0.2931 - acc: 0.9004 - val_loss: 0.2959 - val_acc: 0.9000\n",
            "Epoch 8/12\n",
            "37500/37500 [==============================] - 131s 3ms/step - loss: 0.2904 - acc: 0.9005 - val_loss: 0.2935 - val_acc: 0.9001\n",
            "Epoch 9/12\n",
            "37500/37500 [==============================] - 133s 4ms/step - loss: 0.2885 - acc: 0.9007 - val_loss: 0.2920 - val_acc: 0.9001\n",
            "Epoch 10/12\n",
            "37500/37500 [==============================] - 131s 3ms/step - loss: 0.2863 - acc: 0.9008 - val_loss: 0.2903 - val_acc: 0.9002\n",
            "Epoch 11/12\n",
            "37500/37500 [==============================] - 132s 4ms/step - loss: 0.2844 - acc: 0.9008 - val_loss: 0.2887 - val_acc: 0.9003\n",
            "Epoch 12/12\n",
            "37500/37500 [==============================] - 132s 4ms/step - loss: 0.2827 - acc: 0.9011 - val_loss: 0.2872 - val_acc: 0.9002\n"
          ],
          "name": "stdout"
        }
      ]
    },
    {
      "cell_type": "code",
      "metadata": {
        "colab_type": "code",
        "id": "4-GdDgmQiUtS",
        "colab": {}
      },
      "source": [
        "\n",
        "import matplotlib.pyplot as plt\n",
        "def show_train_history(train_history,train,validation):\n",
        "    plt.plot(train_history.history[train])\n",
        "    plt.plot(train_history.history[validation])\n",
        "    plt.title('Train History')\n",
        "    plt.ylabel(train)\n",
        "    plt.xlabel('Epoch')\n",
        "    plt.legend(['train', 'validation'], loc='upper left')\n",
        "    plt.show()"
      ],
      "execution_count": 0,
      "outputs": []
    },
    {
      "cell_type": "code",
      "metadata": {
        "id": "Fit4GexjasfT",
        "colab_type": "code",
        "colab": {
          "base_uri": "https://localhost:8080/",
          "height": 295
        },
        "outputId": "7806abe7-2e8d-4df5-f9b9-e65d48a42feb"
      },
      "source": [
        "show_train_history(train_history,'acc','val_acc')"
      ],
      "execution_count": 34,
      "outputs": [
        {
          "output_type": "display_data",
          "data": {
            "image/png": "[encoded data removed]",
            "text/plain": [
              "<Figure size 432x288 with 1 Axes>"
            ]
          },
          "metadata": {
            "tags": []
          }
        }
      ]
    },
    {
      "cell_type": "code",
      "metadata": {
        "id": "d5WwmBR-asfv",
        "colab_type": "code",
        "colab": {
          "base_uri": "https://localhost:8080/",
          "height": 295
        },
        "outputId": "ad49091c-fdbf-4c5a-9854-c766a22df060"
      },
      "source": [
        "show_train_history(train_history,'loss','val_loss')"
      ],
      "execution_count": 36,
      "outputs": [
        {
          "output_type": "display_data",
          "data": {
            "image/png": "[encoded data removed]",
            "text/plain": [
              "<Figure size 432x288 with 1 Axes>"
            ]
          },
          "metadata": {
            "tags": []
          }
        }
      ]
    }
  ]
}